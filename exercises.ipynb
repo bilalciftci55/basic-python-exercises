{
 "cells": [
  {
   "cell_type": "code",
   "execution_count": 2,
   "id": "d7dc37fe-8f25-4d98-8b7d-c7e422c527b0",
   "metadata": {},
   "outputs": [],
   "source": [
    "import pandas as pd\n",
    "import numpy as np\n",
    "import seaborn as sns"
   ]
  },
  {
   "cell_type": "code",
   "execution_count": 3,
   "id": "d7255b94",
   "metadata": {},
   "outputs": [],
   "source": [
    "df = sns.load_dataset('planets')"
   ]
  },
  {
   "attachments": {},
   "cell_type": "markdown",
   "id": "2f4f5267",
   "metadata": {},
   "source": [
    "### Print/ Display the first 5 rows of dataframe"
   ]
  },
  {
   "cell_type": "code",
   "execution_count": 6,
   "id": "f57c2abf-fa5a-4b72-953f-3e63422dcdde",
   "metadata": {},
   "outputs": [],
   "source": [
    "print(df.head(5))\n"
   ]
  },
  {
   "attachments": {},
   "cell_type": "markdown",
   "id": "4637202d",
   "metadata": {},
   "source": [
    "### Print/ Display the last 5 rows of dataframe"
   ]
  },
  {
   "cell_type": "code",
   "execution_count": null,
   "id": "4c27adad-ccd9-4871-8d81-dcc11c742dae",
   "metadata": {},
   "outputs": [],
   "source": [
    "print(df.tail(5))\n"
   ]
  },
  {
   "attachments": {},
   "cell_type": "markdown",
   "id": "085837a1",
   "metadata": {},
   "source": [
    "### How many unique methods are there?"
   ]
  },
  {
   "cell_type": "code",
   "execution_count": null,
   "id": "994a8d80",
   "metadata": {},
   "outputs": [],
   "source": [
    "print(len([method for method in dir(pd.DataFrame) if callable(getattr(pd.DataFrame, method)) and not method.startswith(\"__\")]))\n"
   ]
  },
  {
   "attachments": {},
   "cell_type": "markdown",
   "id": "1415c6ca",
   "metadata": {},
   "source": [
    "### What is the number of data collected in each year?"
   ]
  },
  {
   "cell_type": "code",
   "execution_count": null,
   "id": "49c10dc1",
   "metadata": {},
   "outputs": [],
   "source": [
    "data_per_year = df.groupby('year').size()\n",
    "\n",
    "print(data_per_year)    \n"
   ]
  },
  {
   "attachments": {},
   "cell_type": "markdown",
   "id": "2cbc9ee7",
   "metadata": {},
   "source": [
    "### Which columns have missing values and how many?"
   ]
  },
  {
   "cell_type": "code",
   "execution_count": null,
   "id": "9dd74dc6",
   "metadata": {},
   "outputs": [],
   "source": [
    "missing_values = df.isnull().sum()\n",
    "\n",
    "# Display the resultprint(missing_values)\n",
    "\n"
   ]
  },
  {
   "attachments": {},
   "cell_type": "markdown",
   "id": "b860fc98",
   "metadata": {},
   "source": [
    "### Write docstring for the function below."
   ]
  },
  {
   "cell_type": "code",
   "execution_count": 7,
   "id": "0b863767",
   "metadata": {},
   "outputs": [],
   "source": [
    "def do_something(x, y, z):\n",
    "\n",
    "    \"\"\"\n",
    "    Perform a series of mathematical operations on the input values x, y, and z.\n",
    "\n",
    "    Parameters:\n",
    "    - x (float): The first input value.\n",
    "    - y (float): The second input value.\n",
    "    - z (float): The third input value.\n",
    "\n",
    "    Returns:\n",
    "    float: The result of the mathematical operations, calculated as 1 / ((1 / x) + (1 / y) + (1 / z)).\n",
    "    \"\"\"\n",
    "    \n",
    "    result = 1 / x + 1 / y + 1 / z\n",
    "\n",
    "    return 1 / result"
   ]
  },
  {
   "attachments": {},
   "cell_type": "markdown",
   "id": "f30cc83e",
   "metadata": {},
   "source": [
    "### Get (print) the docstring of the function defined above."
   ]
  },
  {
   "cell_type": "code",
   "execution_count": null,
   "id": "ef97655a",
   "metadata": {},
   "outputs": [],
   "source": [
    "print(do_something.__doc__)"
   ]
  },
  {
   "attachments": {},
   "cell_type": "markdown",
   "id": "b2bc7abf",
   "metadata": {},
   "source": [
    "### Call do_something function for the (11,13,15) values and save it as result"
   ]
  },
  {
   "cell_type": "code",
   "execution_count": null,
   "id": "0701ac9e",
   "metadata": {},
   "outputs": [],
   "source": [
    "result = do_something(11,13,15)\n",
    "print(result)"
   ]
  },
  {
   "attachments": {},
   "cell_type": "markdown",
   "id": "b830d73a",
   "metadata": {},
   "source": [
    "### In the variable 's' containing a sentence, extract the word using result defined above as index"
   ]
  },
  {
   "cell_type": "code",
   "execution_count": 8,
   "id": "a00072d4",
   "metadata": {},
   "outputs": [],
   "source": [
    "s = \"I love Machine Learning and Deep Learning\"\n",
    "\n",
    "# Convert the result to integer\n",
    "index = int(result)\n",
    "\n",
    "# Split the sentence into words\n",
    "words = s.split()\n",
    "\n",
    "# Check if the index is valid\n",
    "if 0 <= index < len(words):\n",
    "    # Extract the word at the specified index\n",
    "    extracted_word = words[index]\n",
    "    print(extracted_word)\n",
    "else:\n",
    "    print(\"Index is out of range.\")\n"
   ]
  },
  {
   "attachments": {},
   "cell_type": "markdown",
   "id": "83419b96",
   "metadata": {},
   "source": [
    "### Sort the given array below, do not use built in functions. All sorting methods are allowed."
   ]
  },
  {
   "cell_type": "code",
   "execution_count": 5,
   "id": "5b08d3d7",
   "metadata": {},
   "outputs": [],
   "source": [
    "import random\n",
    "\n",
    "arr = [random.randint(1, 100) for i in range(10)]\n",
    "\n",
    "def bubble_sort(arr):\n",
    "    n = len(arr)\n",
    "\n",
    "    for i in range(n):\n",
    "        for j in range(0, n-i-1):\n",
    "            if arr[j] > arr[j+1]:\n",
    "                # Swap elements if they are in the wrong order\n",
    "                arr[j], arr[j+1] = arr[j+1], arr[j]\n",
    "\n",
    "# Print the original array\n",
    "print(\"Original array:\", arr)\n",
    "\n",
    "# Sort the array using bubble sort\n",
    "bubble_sort(arr)\n",
    "\n",
    "# Print the sorted array\n",
    "print(\"Sorted array:\", arr)\n",
    "\n"
   ]
  },
  {
   "attachments": {},
   "cell_type": "markdown",
   "id": "71443db3",
   "metadata": {},
   "source": [
    "### define a recursive function to calculate input numbers factorial named factorial"
   ]
  },
  {
   "cell_type": "code",
   "execution_count": null,
   "id": "4eaf1f1e",
   "metadata": {},
   "outputs": [],
   "source": [
    "def factorial(n):\n",
    "    \"\"\"\n",
    "    Calculate the factorial of a given number using recursion.\n",
    "\n",
    "    Parameters:\n",
    "    - n (int): The input number.\n",
    "\n",
    "    Returns:\n",
    "    int: The factorial of the input number.\n",
    "    \"\"\"\n",
    "    # Base case: factorial of 0 is 1\n",
    "    if n == 0:\n",
    "        return 1\n",
    "    # Recursive case: n! = n * (n-1)!\n",
    "    else:\n",
    "        return n * factorial(n-1)\n",
    "\n",
    "# Example usage\n",
    "input_number = 5\n",
    "result = factorial(input_number)\n",
    "print(f\"The factorial of {input_number} is: {result}\")\n",
    "\n"
   ]
  },
  {
   "attachments": {},
   "cell_type": "markdown",
   "id": "819ac08e",
   "metadata": {},
   "source": [
    "### define a function to merge the given arrays and calculate the median named twoMedian"
   ]
  },
  {
   "cell_type": "code",
   "execution_count": 4,
   "id": "da96ff47",
   "metadata": {},
   "outputs": [],
   "source": [
    "def merge_arrays(arr1, arr2):\n",
    "    \"\"\"\n",
    "    Merge two sorted arrays into a single sorted array.\n",
    "\n",
    "    Parameters:\n",
    "    - arr1 (list): The first sorted array.\n",
    "    - arr2 (list): The second sorted array.\n",
    "\n",
    "    Returns:\n",
    "    list: The merged and sorted array.\n",
    "    \"\"\"\n",
    "    merged = []\n",
    "    i = j = 0\n",
    "\n",
    "    while i < len(arr1) and j < len(arr2):\n",
    "        if arr1[i] < arr2[j]:\n",
    "            merged.append(arr1[i])\n",
    "            i += 1\n",
    "        else:\n",
    "            merged.append(arr2[j])\n",
    "            j += 1\n",
    "\n",
    "    # Append remaining elements from both arrays (if any)\n",
    "    merged.extend(arr1[i:])\n",
    "    merged.extend(arr2[j:])\n",
    "\n",
    "    return merged\n",
    "\n",
    "def twoMedian(arr1, arr2):\n",
    "    \"\"\"\n",
    "    Calculate the median of the merged and sorted array from two input arrays.\n",
    "\n",
    "    Parameters:\n",
    "    - arr1 (list): The first sorted array.\n",
    "    - arr2 (list): The second sorted array.\n",
    "\n",
    "    Returns:\n",
    "    float: The median of the merged array.\n",
    "    \"\"\"\n",
    "    merged = merge_arrays(arr1, arr2)\n",
    "    n = len(merged)\n",
    "\n",
    "    if n % 2 == 0:\n",
    "        # If the length is even, average the middle two elements\n",
    "        mid_left = merged[n // 2 - 1]\n",
    "        mid_right = merged[n // 2]\n",
    "        median = (mid_left + mid_right) / 2\n",
    "    else:\n",
    "        # If the length is odd, take the middle element\n",
    "        median = merged[n // 2]\n",
    "\n",
    "    return median\n",
    "\n",
    "# Example usage\n",
    "arr1 = [1, 3, 5]\n",
    "arr2 = [2, 4, 6, 8]\n",
    "result = twoMedian(arr1, arr2)\n",
    "print(f\"The median of the merged arrays is: {result}\")\n",
    "\n"
   ]
  }
 ],
 "metadata": {
  "kernelspec": {
   "display_name": "Python 3 (ipykernel)",
   "language": "python",
   "name": "python3"
  },
  "language_info": {
   "codemirror_mode": {
    "name": "ipython",
    "version": 3
   },
   "file_extension": ".py",
   "mimetype": "text/x-python",
   "name": "python",
   "nbconvert_exporter": "python",
   "pygments_lexer": "ipython3",
   "version": "3.11.4"
  }
 },
 "nbformat": 4,
 "nbformat_minor": 5
}
